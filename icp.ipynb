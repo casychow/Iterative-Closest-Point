{
 "cells": [
  {
   "cell_type": "markdown",
   "metadata": {},
   "source": [
    "Part A"
   ]
  },
  {
   "cell_type": "code",
   "execution_count": 5,
   "metadata": {},
   "outputs": [],
   "source": [
    "import open3d as o3d\n",
    "import copy\n",
    "import numpy as np\n",
    "\n",
    "# Initialize functions\n",
    "def draw_registration_result(source, target, transformation):\n",
    "    \"\"\"\n",
    "    param: source - source point cloud\n",
    "    param: target - target point cloud\n",
    "    param: transformation - 4 X 4 homogeneous transformation matrix\n",
    "    \"\"\"\n",
    "    source_temp = copy.deepcopy(source)\n",
    "    target_temp = copy.deepcopy(target)\n",
    "    source_temp.paint_uniform_color([1, 0.706, 0])\n",
    "    target_temp.paint_uniform_color([0, 0.651, 0.929])\n",
    "    source_temp.transform(transformation)\n",
    "    o3d.visualization.draw_geometries([source_temp, target_temp], zoom=0.4459, front=[0.9288, -0.2951, -0.2242], lookat=[1.6784, 2.0612, 1.4451], up=[-0.3402, -0.9189, -0.1996])\n",
    "\n",
    "def find_nearest_neighbors(source_pc, target_pc, nearest_neigh_num):\n",
    "    # Find the closest neighbor for each anchor point through KDTree\n",
    "    point_cloud_tree = o3d.geometry.KDTreeFlann(source_pc)\n",
    "    # Find nearest target_point neighbor index\n",
    "    points_arr = []\n",
    "    for point in target_pc.points:\n",
    "        [_, idx, _] = point_cloud_tree.search_knn_vector_3d(point, nearest_neigh_num)\n",
    "        points_arr.append(source_pc.points[idx[0]])\n",
    "    return np.asarray(points_arr)\n"
   ]
  },
  {
   "cell_type": "code",
   "execution_count": null,
   "metadata": {},
   "outputs": [],
   "source": [
    "\n",
    "def icp(source, target):\n",
    "    source.paint_uniform_color([0.5, 0.5, 0.5])\n",
    "    target.paint_uniform_color([0, 0, 1])\n",
    "    #source_points = np.asarray(source.points) # source_points is len()=198835x3 <--> 198835 points that have (x,y,z) val\n",
    "    target_points = np.asarray(target.points)\n",
    "    # Since there are more source_points than there are target_points, we know there is not\n",
    "    # a perfect one-to-one correspondence match. Sometimes, many points will match to one point,\n",
    "    # and other times, some points may not match at all.\n",
    "\n",
    "    transform_matrix = np.asarray([[0.862, 0.011, -0.507, 0.5], [-0.139, 0.967, -0.215, 0.7], [0.487, 0.255, 0.835, -1.4], [0.0, 0.0, 0.0, 1.0]])\n",
    "    source = source.transform(transform_matrix)\n",
    "\n",
    "    # While loop variables\n",
    "    curr_iteration = 0\n",
    "    cost_change_threshold = 0.001\n",
    "    curr_cost = 1000\n",
    "    prev_cost = 10000\n",
    "\n",
    "    while (True):\n",
    "        # 1. Find nearest neighbors\n",
    "        new_source_points = find_nearest_neighbors(source, target, 1)\n",
    "\n",
    "        # 2. Find point cloud centroids and their repositions\n",
    "        source_centroid = np.mean(new_source_points, axis=0)\n",
    "        target_centroid = np.mean(target_points, axis=0)\n",
    "        source_repos = np.zeros_like(new_source_points)\n",
    "        target_repos = np.zeros_like(target_points)\n",
    "        source_repos = np.asarray([new_source_points[ind] - source_centroid for ind in range(len(new_source_points))])\n",
    "        target_repos = np.asarray([target_points[ind] - target_centroid for ind in range(len(target_points))])\n",
    "\n",
    "        # 3. Find correspondence between source and target point clouds\n",
    "        cov_mat = target_repos.transpose() @ source_repos\n",
    "\n",
    "        U, X, Vt = np.linalg.svd(cov_mat)\n",
    "        R = U @ Vt\n",
    "        t = target_centroid - R @ source_centroid\n",
    "        t = np.reshape(t, (1,3))\n",
    "        curr_cost = np.linalg.norm(target_repos - (R @ source_repos.T).T)\n",
    "        print(\"Curr_cost=\", curr_cost)\n",
    "        if ((prev_cost - curr_cost) > cost_change_threshold):\n",
    "            prev_cost = curr_cost\n",
    "            transform_matrix = np.hstack((R, t.T))\n",
    "            transform_matrix = np.vstack((transform_matrix, np.array([0, 0, 0, 1])))\n",
    "            # If cost_change is acceptable, update source with new transformation matrix\n",
    "            source = source.transform(transform_matrix)\n",
    "            curr_iteration += 1\n",
    "        else:\n",
    "            break\n",
    "    print(\"\\nIteration=\", curr_iteration)\n",
    "    # Visualize final iteration and print out final variables\n",
    "    draw_registration_result(source, target, transform_matrix)\n",
    "    return transform_matrix\n"
   ]
  },
  {
   "cell_type": "code",
   "execution_count": null,
   "metadata": {},
   "outputs": [],
   "source": [
    "# Initialize point cloud variables\n",
    "demo_icp_pcds = o3d.data.DemoICPPointClouds()\n",
    "source = o3d.io.read_point_cloud(demo_icp_pcds.paths[0])\n",
    "target = o3d.io.read_point_cloud(demo_icp_pcds.paths[1])\n",
    "part_a = icp(source, target)"
   ]
  },
  {
   "cell_type": "markdown",
   "metadata": {},
   "source": [
    "Part B"
   ]
  },
  {
   "cell_type": "code",
   "execution_count": 7,
   "metadata": {},
   "outputs": [
    {
     "name": "stdout",
     "output_type": "stream",
     "text": [
      "std::vector<Eigen::Vector3d> with 4415 elements.\n",
      "Use numpy.asarray() to access data. std::vector<Eigen::Vector3d> with 4415 elements.\n",
      "Use numpy.asarray() to access data.\n",
      "Curr_cost= 423.00096721130814\n",
      "Curr_cost= 128.03650215232375\n",
      "Curr_cost= 112.2421221538273\n",
      "Curr_cost= 107.62582174652331\n",
      "Curr_cost= 105.7618895498228\n",
      "Curr_cost= 105.07439411547402\n",
      "Curr_cost= 104.77890475399732\n",
      "Curr_cost= 104.58473408243661\n",
      "Curr_cost= 104.40273285871328\n",
      "Curr_cost= 104.2332198666827\n",
      "Curr_cost= 104.07636388659374\n",
      "Curr_cost= 103.9410799670059\n",
      "Curr_cost= 103.84508261807535\n",
      "Curr_cost= 103.77682671312363\n",
      "Curr_cost= 103.73137681168188\n",
      "Curr_cost= 103.68760283778052\n",
      "Curr_cost= 103.64327449100276\n",
      "Curr_cost= 103.60795733714072\n",
      "Curr_cost= 103.57888278576381\n",
      "Curr_cost= 103.54862104843541\n",
      "Curr_cost= 103.5212026575957\n",
      "Curr_cost= 103.49423111261844\n",
      "Curr_cost= 103.46314728569833\n",
      "Curr_cost= 103.42686975073669\n",
      "Curr_cost= 103.39035666051876\n",
      "Curr_cost= 103.35737886100414\n",
      "Curr_cost= 103.33497913498759\n",
      "Curr_cost= 103.31951780522384\n",
      "Curr_cost= 103.30760323896823\n",
      "Curr_cost= 103.2993586582023\n",
      "Curr_cost= 103.29350888838445\n",
      "Curr_cost= 103.28983106106791\n",
      "Curr_cost= 103.286713435679\n",
      "Curr_cost= 103.2844313010081\n",
      "Curr_cost= 103.28275403696264\n",
      "Curr_cost= 103.28063088875021\n",
      "Curr_cost= 103.27788450762034\n",
      "Curr_cost= 103.27459268505812\n",
      "Curr_cost= 103.27316733477721\n",
      "Curr_cost= 103.27061876023737\n",
      "Curr_cost= 103.26715945116291\n",
      "Curr_cost= 103.26414403336653\n",
      "Curr_cost= 103.26233259555892\n",
      "Curr_cost= 103.26125490873734\n",
      "Curr_cost= 103.26103870278365\n",
      "\n",
      "Iteration= 44\n"
     ]
    }
   ],
   "source": [
    "source = o3d.io.read_point_cloud(\"kitti_frame1.pcd\")\n",
    "target = o3d.io.read_point_cloud(\"kitti_frame2.pcd\")\n",
    "print(source.points, target.points)\n",
    "part_b = icp(source, target)"
   ]
  }
 ],
 "metadata": {
  "kernelspec": {
   "display_name": "Python 3",
   "language": "python",
   "name": "python3"
  },
  "language_info": {
   "codemirror_mode": {
    "name": "ipython",
    "version": 3
   },
   "file_extension": ".py",
   "mimetype": "text/x-python",
   "name": "python",
   "nbconvert_exporter": "python",
   "pygments_lexer": "ipython3"
  },
  "orig_nbformat": 4,
  "vscode": {
   "interpreter": {
    "hash": "054b462420f35d2cb7171a1332bf35b78df0333279903333e309c080995ff4af"
   }
  }
 },
 "nbformat": 4,
 "nbformat_minor": 2
}
